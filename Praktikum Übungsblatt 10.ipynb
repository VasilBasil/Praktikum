{
 "cells": [
  {
   "cell_type": "markdown",
   "metadata": {},
   "source": [
    "### Aufgabe 10"
   ]
  },
  {
   "cell_type": "code",
   "execution_count": 2,
   "metadata": {},
   "outputs": [
    {
     "name": "stdout",
     "output_type": "stream",
     "text": [
      "[1, 10, 'a', 'b', [1], [2]]\n"
     ]
    }
   ],
   "source": [
    "from functools import reduce\n",
    "\n",
    "liste = [(1,10), ('a','b'),([1],[2])]\n",
    "print(list(reduce(lambda x,y: x+y, liste)))\n",
    "#1. durchlauf: tuples (1,10) und ('a','b') werden kombiniert    \n",
    "#2. durchlauf: tuple ([1],[2]) wird aufgelöst, nur elemente bleiben"
   ]
  },
  {
   "cell_type": "code",
   "execution_count": 8,
   "metadata": {},
   "outputs": [],
   "source": [
    "from functools import reduce\n",
    "\n",
    "def max(lst):\n",
    "    newlist = reduce(lambda x, y: x + y, lst)\n",
    "    numlist = []\n",
    "    for i in newlist:\n",
    "        if isinstance(i, int):\n",
    "            numlist.append(i)\n",
    "    numlist.sort()\n",
    "    print(\"Höchste Zahl:\" ,numlist[-1])\n"
   ]
  },
  {
   "cell_type": "code",
   "execution_count": 9,
   "metadata": {},
   "outputs": [
    {
     "name": "stdout",
     "output_type": "stream",
     "text": [
      "Höchste Zahl: 10\n"
     ]
    }
   ],
   "source": [
    "max([(1,10), ('a','b'),([1],[2])])"
   ]
  },
  {
   "cell_type": "markdown",
   "metadata": {},
   "source": [
    "### Aufgabe 10.1"
   ]
  },
  {
   "cell_type": "code",
   "execution_count": 16,
   "metadata": {},
   "outputs": [
    {
     "name": "stdout",
     "output_type": "stream",
     "text": [
      "[7, 7, 7, 7, 7, 7, 7, 7, 7, 8, 7, 5, 7]\n",
      "zeile 1\n",
      "zeile 2\n",
      "zeile 3\n",
      "\n",
      "1 eliez\n",
      "[5, 5, 5, 5, 5, 5, 5, 5, 5, 5, 7, 5, 7]\n",
      "[11, 12, 13]\n",
      "['filew10charname.txt']\n"
     ]
    }
   ],
   "source": [
    "import os\n",
    "os.chdir(r'/Users/vasilmaznokov/Desktop/Uni/Programierung_1/Praktikum/Aufgabe 10')\n",
    "\n",
    "print([len(line.strip()) for line in lines])\n",
    "print(''.join(lines[:3]))\n",
    "print(open(file).readline()[::-1].strip())\n",
    "print([len(line.split()[0]) for line in lines if line.strip()])\n",
    "print([i for i, line in enumerate(lines, 1) if ' ' not in line])\n",
    "print([f for f in os.listdir(path) if len(f) > 10 and len(open(f).readlines()) > 10])\n"
   ]
  },
  {
   "cell_type": "code",
   "execution_count": null,
   "metadata": {},
   "outputs": [],
   "source": []
  }
 ],
 "metadata": {
  "kernelspec": {
   "display_name": "Python 3",
   "language": "python",
   "name": "python3"
  },
  "language_info": {
   "codemirror_mode": {
    "name": "ipython",
    "version": 3
   },
   "file_extension": ".py",
   "mimetype": "text/x-python",
   "name": "python",
   "nbconvert_exporter": "python",
   "pygments_lexer": "ipython3",
   "version": "3.13.2"
  }
 },
 "nbformat": 4,
 "nbformat_minor": 2
}
