{
 "cells": [
  {
   "cell_type": "markdown",
   "metadata": {},
   "source": [
    "### Aufgabe 9"
   ]
  },
  {
   "cell_type": "code",
   "execution_count": 1,
   "metadata": {},
   "outputs": [],
   "source": [
    "import random"
   ]
  },
  {
   "cell_type": "code",
   "execution_count": 2,
   "metadata": {},
   "outputs": [
    {
     "name": "stdout",
     "output_type": "stream",
     "text": [
      "[3, 3, 1, 3, 5, 1, 3, 3, 3, 4]\n"
     ]
    }
   ],
   "source": [
    "randoms = [(random.randint(1,6)) for i in range(10)]\n",
    "print(randoms)"
   ]
  },
  {
   "cell_type": "markdown",
   "metadata": {},
   "source": [
    "keine 1 zu Werfen: (5/6)\n",
    "\n",
    "keine 1 10 mal zu werfen: (5/6)^10 ~> 0.16\n"
   ]
  },
  {
   "cell_type": "code",
   "execution_count": 3,
   "metadata": {},
   "outputs": [
    {
     "name": "stdout",
     "output_type": "stream",
     "text": [
      "Die Wahrscheinlichkeit, bei 10 Wurfe keine 1 zu werfen liegt bei ca.: 0.16198\n"
     ]
    }
   ],
   "source": [
    "import random\n",
    "\n",
    "wahrscheinlichkeit = sum([1 for _ in range(100000) if 1 not in [random.randint(1,6) for _ in range(10)]])\n",
    "print(\"Die Wahrscheinlichkeit, bei 10 Wurfe keine 1 zu werfen liegt bei ca.:\",wahrscheinlichkeit / 100000)"
   ]
  },
  {
   "cell_type": "markdown",
   "metadata": {},
   "source": [
    "genau 3 mal eine 1 zu werfen: (10/3) * (1/6)^3 * (5/6)^7 ~> 0.26"
   ]
  },
  {
   "cell_type": "code",
   "execution_count": 4,
   "metadata": {},
   "outputs": [
    {
     "name": "stdout",
     "output_type": "stream",
     "text": [
      "0.15413\n"
     ]
    }
   ],
   "source": [
    "import random\n",
    "\n",
    "wahrscheinlichkeit = sum([1 for _ in range(100000) if [random.randint(1,6) for _ in range(10)].count(1) == 3])\n",
    "print(wahrscheinlichkeit / 100000)\n"
   ]
  },
  {
   "cell_type": "code",
   "execution_count": 5,
   "metadata": {},
   "outputs": [],
   "source": [
    "import matplotlib.pyplot as plt\n",
    "%matplotlib inline"
   ]
  },
  {
   "cell_type": "code",
   "execution_count": 6,
   "metadata": {},
   "outputs": [],
   "source": [
    "def teiler(n):\n",
    "    teiler = [i for i in range(1,n) if n % i == 0]\n",
    "    teiler.append(n)\n",
    "    print(teiler)\n",
    "\n",
    "#a"
   ]
  },
  {
   "cell_type": "code",
   "execution_count": 7,
   "metadata": {},
   "outputs": [
    {
     "name": "stdout",
     "output_type": "stream",
     "text": [
      "[1, 2, 3, 4, 6, 8, 12, 24]\n"
     ]
    }
   ],
   "source": [
    "teiler(24)"
   ]
  },
  {
   "cell_type": "code",
   "execution_count": 9,
   "metadata": {},
   "outputs": [
    {
     "data": {
      "text/plain": [
       "[24,\n",
       " 30,\n",
       " 40,\n",
       " 42,\n",
       " 54,\n",
       " 56,\n",
       " 66,\n",
       " 70,\n",
       " 78,\n",
       " 88,\n",
       " 102,\n",
       " 104,\n",
       " 105,\n",
       " 110,\n",
       " 114,\n",
       " 128,\n",
       " 130,\n",
       " 135,\n",
       " 136,\n",
       " 138,\n",
       " 152,\n",
       " 154,\n",
       " 165,\n",
       " 170,\n",
       " 174,\n",
       " 182,\n",
       " 184,\n",
       " 186,\n",
       " 189,\n",
       " 190,\n",
       " 195,\n",
       " 222,\n",
       " 230,\n",
       " 231,\n",
       " 232,\n",
       " 238,\n",
       " 246,\n",
       " 248,\n",
       " 250,\n",
       " 255,\n",
       " 258,\n",
       " 266,\n",
       " 273,\n",
       " 282,\n",
       " 285,\n",
       " 286,\n",
       " 290,\n",
       " 296,\n",
       " 297,\n",
       " 310,\n",
       " 318,\n",
       " 322,\n",
       " 328,\n",
       " 344,\n",
       " 345,\n",
       " 351,\n",
       " 354,\n",
       " 357,\n",
       " 366,\n",
       " 370,\n",
       " 374,\n",
       " 375,\n",
       " 376,\n",
       " 385,\n",
       " 399,\n",
       " 402,\n",
       " 406,\n",
       " 410,\n",
       " 418,\n",
       " 424,\n",
       " 426,\n",
       " 429,\n",
       " 430,\n",
       " 434,\n",
       " 435,\n",
       " 438,\n",
       " 442,\n",
       " 455,\n",
       " 459,\n",
       " 465,\n",
       " 470,\n",
       " 472,\n",
       " 474,\n",
       " 483,\n",
       " 488,\n",
       " 494,\n",
       " 498,\n",
       " 506,\n",
       " 513,\n",
       " 518,\n",
       " 530,\n",
       " 534,\n",
       " 536,\n",
       " 555,\n",
       " 561,\n",
       " 568,\n",
       " 574,\n",
       " 582,\n",
       " 584,\n",
       " 590,\n",
       " 595,\n",
       " 598,\n",
       " 602,\n",
       " 606,\n",
       " 609,\n",
       " 610,\n",
       " 615,\n",
       " 618,\n",
       " 621,\n",
       " 627,\n",
       " 632,\n",
       " 638,\n",
       " 642,\n",
       " 645,\n",
       " 646,\n",
       " 651,\n",
       " 654,\n",
       " 658,\n",
       " 663,\n",
       " 664,\n",
       " 665,\n",
       " 670,\n",
       " 678,\n",
       " 682,\n",
       " 686,\n",
       " 705,\n",
       " 710,\n",
       " 712,\n",
       " 715,\n",
       " 730,\n",
       " 741,\n",
       " 742,\n",
       " 754,\n",
       " 759,\n",
       " 762,\n",
       " 776,\n",
       " 777,\n",
       " 782,\n",
       " 783,\n",
       " 786,\n",
       " 790,\n",
       " 795,\n",
       " 805,\n",
       " 806,\n",
       " 808,\n",
       " 814,\n",
       " 822,\n",
       " 824,\n",
       " 826,\n",
       " 830,\n",
       " 834,\n",
       " 837,\n",
       " 854,\n",
       " 856,\n",
       " 861,\n",
       " 872,\n",
       " 874,\n",
       " 875,\n",
       " 885,\n",
       " 890,\n",
       " 894,\n",
       " 897,\n",
       " 902,\n",
       " 903,\n",
       " 904,\n",
       " 906,\n",
       " 915,\n",
       " 935,\n",
       " 938,\n",
       " 942,\n",
       " 946,\n",
       " 957,\n",
       " 962,\n",
       " 969,\n",
       " 970,\n",
       " 978,\n",
       " 986,\n",
       " 987,\n",
       " 994,\n",
       " 999]"
      ]
     },
     "execution_count": 9,
     "metadata": {},
     "output_type": "execute_result"
    }
   ],
   "source": [
    "[x for x in range(1, 1001) if len([i for i in range(1, x + 1) if x % i == 0]) == 8]\n"
   ]
  },
  {
   "cell_type": "code",
   "execution_count": null,
   "metadata": {},
   "outputs": [
    {
     "name": "stdout",
     "output_type": "stream",
     "text": [
      "840\n"
     ]
    }
   ],
   "source": [
    "max_teiler = max(range(1, 1001), key=lambda x: len([i for i in range(1, x + 1) if x % i == 0]))\n",
    "print(max_teiler)\n",
    "#lambda ersetzt hier eine def xxx: funktion damit diese nicht nochmal geschr. werd. muss\n",
    "# list comprehension in lambda funktion prüft erstellt liste aus allen zahlen zws. 1 und x, durch die sich x gerade teilen lässt"
   ]
  },
  {
   "cell_type": "code",
   "execution_count": 11,
   "metadata": {},
   "outputs": [
    {
     "data": {
      "image/png": "[encoded data removed]",
      "text/plain": [
       "<Figure size 1000x600 with 1 Axes>"
      ]
     },
     "metadata": {},
     "output_type": "display_data"
    }
   ],
   "source": [
    "x = range(1, 10001)\n",
    "y = [len([i for i in range(1, num + 1) if num % i == 0]) for num in x]\n",
    "\n",
    "plt.figure(figsize=(10, 6))\n",
    "plt.plot(x, y)\n",
    "plt.xlabel('Zahl (x)')\n",
    "plt.ylabel('Anzahl der Teiler (y)')\n",
    "plt.title('Anzahl der Teiler für jede Zahl zwischen 1 und 10000')\n",
    "plt.grid(True)\n",
    "plt.show()"
   ]
  },
  {
   "cell_type": "code",
   "execution_count": null,
   "metadata": {},
   "outputs": [],
   "source": []
  }
 ],
 "metadata": {
  "kernelspec": {
   "display_name": "Python 3",
   "language": "python",
   "name": "python3"
  },
  "language_info": {
   "codemirror_mode": {
    "name": "ipython",
    "version": 3
   },
   "file_extension": ".py",
   "mimetype": "text/x-python",
   "name": "python",
   "nbconvert_exporter": "python",
   "pygments_lexer": "ipython3",
   "version": "3.13.2"
  }
 },
 "nbformat": 4,
 "nbformat_minor": 2
}
