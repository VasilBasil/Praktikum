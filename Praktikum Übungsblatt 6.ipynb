{
 "cells": [
  {
   "cell_type": "markdown",
   "metadata": {},
   "source": [
    "### Aufgabe 6"
   ]
  },
  {
   "cell_type": "code",
   "execution_count": 150,
   "metadata": {},
   "outputs": [],
   "source": [
    "class Stack:\n",
    "\n",
    "    def __init__(self):\n",
    "        self.st = []\n",
    "\n",
    "    def push(self, value):\n",
    "        self.st.append(value)\n",
    "    \n",
    "    def pop(self):\n",
    "        if self.st:\n",
    "            print(self.st[-1])\n",
    "            return self.st.pop()\n",
    "        else:\n",
    "            print(\"Stack ist leer.\")\n",
    "    \n",
    "    def __len__(self):\n",
    "        return len(self.st)\n",
    "    \n",
    "    def toList(self):\n",
    "        return self.st\n",
    "\n",
    "    def multPop(self):\n",
    "        count = int(input(\"Anzahl der Pop-Operationen: \"))\n",
    "        entfernt = []\n",
    "        for _ in range(count):\n",
    "            if self.st:\n",
    "                entfernt.append(self.st[-1])\n",
    "            self.st.pop()\n",
    "        return entfernt"
   ]
  },
  {
   "cell_type": "code",
   "execution_count": 151,
   "metadata": {},
   "outputs": [],
   "source": [
    "s = Stack()"
   ]
  },
  {
   "cell_type": "code",
   "execution_count": 152,
   "metadata": {},
   "outputs": [],
   "source": [
    "s.push(1)\n",
    "s.push(\"Hall0\")\n",
    "s.push(4.32)\n",
    "s.push(True)"
   ]
  },
  {
   "cell_type": "code",
   "execution_count": 153,
   "metadata": {},
   "outputs": [
    {
     "name": "stdout",
     "output_type": "stream",
     "text": [
      "True\n"
     ]
    },
    {
     "data": {
      "text/plain": [
       "True"
      ]
     },
     "execution_count": 153,
     "metadata": {},
     "output_type": "execute_result"
    }
   ],
   "source": [
    "s.pop()"
   ]
  },
  {
   "cell_type": "code",
   "execution_count": 154,
   "metadata": {},
   "outputs": [],
   "source": [
    "s.push(\"a\")"
   ]
  },
  {
   "cell_type": "code",
   "execution_count": 155,
   "metadata": {},
   "outputs": [
    {
     "name": "stdout",
     "output_type": "stream",
     "text": [
      "a\n",
      "4.32\n"
     ]
    },
    {
     "data": {
      "text/plain": [
       "('a', 4.32)"
      ]
     },
     "execution_count": 155,
     "metadata": {},
     "output_type": "execute_result"
    }
   ],
   "source": [
    "s.pop(), s.pop()"
   ]
  },
  {
   "cell_type": "code",
   "execution_count": 156,
   "metadata": {},
   "outputs": [
    {
     "name": "stdout",
     "output_type": "stream",
     "text": [
      "Hall0\n"
     ]
    },
    {
     "data": {
      "text/plain": [
       "'Hall0'"
      ]
     },
     "execution_count": 156,
     "metadata": {},
     "output_type": "execute_result"
    }
   ],
   "source": [
    "s.pop()"
   ]
  },
  {
   "cell_type": "code",
   "execution_count": null,
   "metadata": {},
   "outputs": [],
   "source": [
    "class AufgabenManager:\n",
    "    def __init__(self):\n",
    "        self.aufgaben = {} #erstellt dictionary damit aufgaben und prios verbunden sind\n",
    "    \n",
    "    def neueAufgabe(self, string, prio):\n",
    "        if prio not in self.aufgaben:\n",
    "            self.aufgaben[prio] = []  # Initialize a list for the priority\n",
    "        self.aufgaben[prio].append(string)  # Add the task to the list\n",
    "    \n",
    "    def hoechstePrio(self):\n",
    "        if self.aufgaben:\n",
    "            high = max(self.aufgaben.keys())  # Find the highest priority\n",
    "            return high  # Return the highest priority\n",
    "        \n",
    "    def erledigeNaechsteAufgabe(self):\n",
    "        if self.aufgaben:\n",
    "            high = max(self.aufgaben.keys())  # Find the highest priority\n",
    "            print(self.aufgaben[high].pop(0))  # Remove and print the first task with the highest priority\n",
    "            if not self.aufgaben[high]:  # If no tasks remain for this priority\n",
    "                del self.aufgaben[high]  # Remove the priority from the dictionary\n",
    "        else:\n",
    "            print(\"Keine Aufgaben vorhanden.\")\n",
    "    \n",
    "    def alleAufgabenMitPrio(self):\n",
    "        prio = int(input(\"Geben Sie eine Priorität ein: \"))\n",
    "        if prio in self.aufgaben:\n",
    "            print(f\"Aufgaben mit Priorität {prio}: {self.aufgaben[prio]}\")\n",
    "        else:\n",
    "            print(f\"Keine Aufgaben mit Priorität {prio} gefunden.\")\n",
    "    \n",
    "    def allePrios(self):\n",
    "        return list(self.aufgaben.keys())\n",
    "    \n",
    "    def anzahlAufgabenPrio(self, num):\n",
    "        if num in self.aufgaben:\n",
    "            return len(self.aufgaben[num])  # Return the number of tasks for the priority\n",
    "        else:\n",
    "            return 0\n",
    "    \n",
    "    def anzahlAufgaben(self):\n",
    "        return sum(len(tasks) for tasks in self.aufgaben.values())  # Return the sum of the number of tasks across all priorities"
   ]
  },
  {
   "cell_type": "code",
   "execution_count": 117,
   "metadata": {},
   "outputs": [],
   "source": [
    "tasks = AufgabenManager()"
   ]
  },
  {
   "cell_type": "code",
   "execution_count": 118,
   "metadata": {},
   "outputs": [],
   "source": [
    "tasks.neueAufgabe(\"küche putzen\", 5)\n",
    "tasks.neueAufgabe(\"auf prog 1 lernen\", 1)\n",
    "tasks.neueAufgabe(\"oma besuchen\", 2)\n",
    "tasks.neueAufgabe(\"auf mathe 1 lernen\", 1)\n",
    "tasks.neueAufgabe(\"fahrrad putzen\", 10)"
   ]
  },
  {
   "cell_type": "code",
   "execution_count": 119,
   "metadata": {},
   "outputs": [
    {
     "name": "stdout",
     "output_type": "stream",
     "text": [
      "fahrrad putzen\n"
     ]
    }
   ],
   "source": [
    "tasks.erledigeNaechsteAufgabe()"
   ]
  },
  {
   "cell_type": "code",
   "execution_count": 120,
   "metadata": {},
   "outputs": [
    {
     "name": "stdout",
     "output_type": "stream",
     "text": [
      "küche putzen\n"
     ]
    }
   ],
   "source": [
    "tasks.erledigeNaechsteAufgabe()"
   ]
  },
  {
   "cell_type": "code",
   "execution_count": 121,
   "metadata": {},
   "outputs": [
    {
     "name": "stdout",
     "output_type": "stream",
     "text": [
      "2\n"
     ]
    }
   ],
   "source": [
    "print(tasks.hoechstePrio())"
   ]
  },
  {
   "cell_type": "code",
   "execution_count": 122,
   "metadata": {},
   "outputs": [
    {
     "name": "stdout",
     "output_type": "stream",
     "text": [
      "0\n"
     ]
    }
   ],
   "source": [
    "print(tasks.anzahlAufgabenPrio(4))"
   ]
  },
  {
   "cell_type": "code",
   "execution_count": 123,
   "metadata": {},
   "outputs": [
    {
     "name": "stdout",
     "output_type": "stream",
     "text": [
      "3\n"
     ]
    }
   ],
   "source": [
    "print(tasks.anzahlAufgaben())"
   ]
  }
 ],
 "metadata": {
  "kernelspec": {
   "display_name": "Python 3",
   "language": "python",
   "name": "python3"
  },
  "language_info": {
   "codemirror_mode": {
    "name": "ipython",
    "version": 3
   },
   "file_extension": ".py",
   "mimetype": "text/x-python",
   "name": "python",
   "nbconvert_exporter": "python",
   "pygments_lexer": "ipython3",
   "version": "3.13.2"
  }
 },
 "nbformat": 4,
 "nbformat_minor": 2
}
