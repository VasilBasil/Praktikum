{
 "cells": [
  {
   "cell_type": "markdown",
   "metadata": {},
   "source": [
    "### Aufgabe 5"
   ]
  },
  {
   "cell_type": "markdown",
   "metadata": {},
   "source": [
    "Implementieren Sie eine Funktion saveperson(n, v, a, g), bei der Sie Nachname, Vorname, Alter und Größe (in Zentimeter) angeben können. Alle Eingaben sollen nach Ihren Typen mit Hilfe der assert()-Funktion überprüft werden. Also der Nachname und Vorname müssen ein String sein, Alter und Größe ein Integer.\n",
    "\n",
    "Nach der Eingabe wird ein json-File (namensliste.json) eingeladen und die Information im File in eine Liste von Dict-Variablen umgewandelt (anfangs ist das File leer). Die eingegebene Information wird hinten an die Liste als Dict-Variable angehängt und auf die Festplatte zurückgespeichert."
   ]
  },
  {
   "cell_type": "code",
   "execution_count": 2,
   "metadata": {},
   "outputs": [],
   "source": [
    "def saveperson(n,v,a,g):\n",
    "    with open('namensliste.json', 'a') as file:\n",
    "        if isinstance(n, str) and isinstance(v, str) and isinstance(a, int) and isinstance(g, int) == True:\n",
    "            file.write(f'{{\"name\": \"{n}\", \"vorname\": \"{v}\", \"alter\": {a}, \"größe\": \"{g}\"}}\\n')\n",
    "        else:\n",
    "            raise TypeError(\"Die Eingaben sind nicht vom richtigen Typ!\")\n",
    "        \n",
    "\n",
    "    "
   ]
  },
  {
   "cell_type": "code",
   "execution_count": 3,
   "metadata": {},
   "outputs": [],
   "source": [
    "saveperson(\"Mustermann\", \"Max\", 25, 180)\n",
    "saveperson(\"Müller\", \"Anna\", 30, 170)\n",
    "saveperson(\"Thuma\", \"Max\", 19, 185)\n"
   ]
  },
  {
   "cell_type": "markdown",
   "metadata": {},
   "source": [
    "a) Implementieren Sie eine weitere Funktion findperson(n) mit Name als Eingabe, die ein json-File (namensliste.json) einliest, und die Namen im json-File mit der Eingabe vergleicht. Falls ein Name im File dem Namen der Eingabe entspricht, dann soll die gesamte Information der Person ausgegeben werden. Uberprüfen Sie mit der assert()-Funktion, ob die Eingabe tatsächlich ein String ist."
   ]
  },
  {
   "cell_type": "code",
   "execution_count": 4,
   "metadata": {},
   "outputs": [],
   "source": [
    "def findperson(n):\n",
    "    with open('namensliste.json', 'r') as file:\n",
    "        for line in file:\n",
    "            if n in line:\n",
    "                print(line)\n",
    "                break\n",
    "        else:\n",
    "            print(\"Person nicht gefunden!\")"
   ]
  },
  {
   "cell_type": "code",
   "execution_count": 5,
   "metadata": {},
   "outputs": [
    {
     "name": "stdout",
     "output_type": "stream",
     "text": [
      "{\"name\": \"Mustermann\", \"vorname\": \"Max\", \"alter\": 25, \"größe\": \"180\"}\n",
      "\n"
     ]
    }
   ],
   "source": [
    "findperson(\"Max\")"
   ]
  },
  {
   "cell_type": "markdown",
   "metadata": {},
   "source": [
    "b) Implementieren Sie eine weitere Funktion removeperson(n) mit Name als Eingabe, die ein json-File (namensliste.json) einliest und die Information im File in eine Liste von Dict-Variablen umgewandelt. Die Namen in der Liste soll mit der Eingabe verglichen werden. Falls ein Name im File dem Namen der Eingabe entspricht, dann soll die Dict-Variable aus der Liste entfernt werden, und die restlichen Daten in der Liste in das json-File zurück auf die Festplatte gespeichert werden."
   ]
  },
  {
   "cell_type": "code",
   "execution_count": 6,
   "metadata": {},
   "outputs": [],
   "source": [
    "def removeperson(n):\n",
    "    with open('namensliste.json', 'r') as file:\n",
    "        lines = file.readlines()\n",
    "    with open('namensliste.json', 'w') as file:\n",
    "        for line in lines:\n",
    "            if n not in line:\n",
    "                file.write(line)\n",
    "            else:\n",
    "                print(f\"{n} wurde entfernt!\")"
   ]
  },
  {
   "cell_type": "code",
   "execution_count": 7,
   "metadata": {},
   "outputs": [
    {
     "name": "stdout",
     "output_type": "stream",
     "text": [
      "Mustermann wurde entfernt!\n"
     ]
    }
   ],
   "source": [
    "removeperson(\"Mustermann\")"
   ]
  },
  {
   "cell_type": "code",
   "execution_count": 8,
   "metadata": {},
   "outputs": [
    {
     "name": "stdout",
     "output_type": "stream",
     "text": [
      "{\"name\": \"Thuma\", \"vorname\": \"Max\", \"alter\": 19, \"größe\": \"185\"}\n",
      "\n"
     ]
    }
   ],
   "source": [
    "findperson(\"Max\")"
   ]
  },
  {
   "cell_type": "markdown",
   "metadata": {},
   "source": [
    "Aufgabe 5.1\n",
    "\n",
    "Schreiben Sie eine Funktion findFile(d, n), die als Eingangsparameter ein Verzeichnis d und ein Filename n hat. Uberprüfen Sie bei Aufruf, ob das Verzeichnis tatsächlich existiert. Falls nicht, dann soll eine Exception geworfen werden. Die Funktion soll im Verzeichnis d alle Files mit dem Namen n suchen und mit print() ausgeben. Es besteht auch die Möglichkeit, n mit einem regulären Ausdruck als String anzugeben. Mit Hilfe eines regulären Ausdrucks soll überprüft werden, ob die Eingabe einem korrekten Filenamen entspricht. Die Funktion os.listdir() der os.path Bibliothek liefert dafür eine Liste von Files. Alle Elemente der Liste sollen mit dem regulären Ausdruck überprüft werden. Entspricht ein File dem Suchkriterium, dann soll die Funktion den Filenamen ausgeben. \n",
    "\n",
    "Folgende Files sollen Sie auf Ihrer Festplatte im Verzeichnis d finden. Stellen Sie sicher, dass sich diese Files aus Testzwecken in Ihrem Verzeichnis befinden:\n",
    "\n",
    "(a) ein File namens test.txt\n",
    "\n",
    "(b) alle Files, deren Filename mit einem Punkt getrennt sind\n",
    "\n",
    "(c) alle Files, die mit einem Punkt anfangen\n",
    "\n",
    "(d) alle Files mit der Endung .txt, .csv oder .json\n",
    "\n",
    "(e) alle Files, die mit Aufgabe anfangen und mit pdf aufhören\n",
    "\n",
    "(f) alle Files, die keine Zahlen im Namen enthalten"
   ]
  },
  {
   "cell_type": "code",
   "execution_count": 137,
   "metadata": {},
   "outputs": [],
   "source": [
    "import os\n",
    "\n",
    "def findFile(d):\n",
    "    # geh durch files in directory\n",
    "    print(\"File namens test.txt\")\n",
    "    for file in os.listdir(d):\n",
    "        # prüft ob file mit .txt endet & gibt aus\n",
    "        if file == \"test.txt\":\n",
    "            print(file)\n"
   ]
  },
  {
   "cell_type": "code",
   "execution_count": 138,
   "metadata": {},
   "outputs": [
    {
     "name": "stdout",
     "output_type": "stream",
     "text": [
      "File namens test.txt\n",
      "test.txt\n"
     ]
    }
   ],
   "source": [
    "findFile(\"Aufgabe5\")"
   ]
  },
  {
   "cell_type": "code",
   "execution_count": 145,
   "metadata": {},
   "outputs": [],
   "source": [
    "import os\n",
    "\n",
    "def findFile2(d):\n",
    "    print(\"Files, die mit . getrennt sind\")\n",
    "    for file in os.listdir(d):\n",
    "        if \".\" in file:  \n",
    "            print(file)\n"
   ]
  },
  {
   "cell_type": "code",
   "execution_count": 146,
   "metadata": {},
   "outputs": [
    {
     "name": "stdout",
     "output_type": "stream",
     "text": [
      "Files, die mit . getrennt sind\n",
      "csv.csv\n",
      "jsonfile.json\n",
      "file.withdot.txt\n",
      "test.txt\n",
      "Aufgabe3.pdf\n",
      ".startswithdot\n",
      "Aufgabe.pdf\n"
     ]
    }
   ],
   "source": [
    "findFile2(\"Aufgabe5\")"
   ]
  },
  {
   "cell_type": "code",
   "execution_count": 147,
   "metadata": {},
   "outputs": [],
   "source": [
    "import os\n",
    "\n",
    "def findFile3(d):\n",
    "    print(\"Files beginnend mit '.':\")\n",
    "    for file in os.listdir(d):\n",
    "        if file.startswith(\".\"):\n",
    "            print(file)"
   ]
  },
  {
   "cell_type": "code",
   "execution_count": 148,
   "metadata": {},
   "outputs": [
    {
     "name": "stdout",
     "output_type": "stream",
     "text": [
      "Files beginnend mit '.':\n",
      ".startswithdot\n"
     ]
    }
   ],
   "source": [
    "findFile3(\"Aufgabe5\")"
   ]
  },
  {
   "cell_type": "code",
   "execution_count": 149,
   "metadata": {},
   "outputs": [],
   "source": [
    "import os\n",
    "\n",
    "def findFile4(d):\n",
    "    print(\"Files endend mit .txt, .csv oder .json:\")\n",
    "    for file in os.listdir(d):\n",
    "        if file.endswith((\".txt\", \".csv\", \".json\")):\n",
    "            print(file)"
   ]
  },
  {
   "cell_type": "code",
   "execution_count": 150,
   "metadata": {},
   "outputs": [
    {
     "name": "stdout",
     "output_type": "stream",
     "text": [
      "Files endend mit .txt, .csv oder .json:\n",
      "csv.csv\n",
      "jsonfile.json\n",
      "file.withdot.txt\n",
      "test.txt\n"
     ]
    }
   ],
   "source": [
    "findFile4(\"Aufgabe5\")"
   ]
  },
  {
   "cell_type": "code",
   "execution_count": 151,
   "metadata": {},
   "outputs": [],
   "source": [
    "import os\n",
    "\n",
    "def findFile5(d):\n",
    "    print(\"Files beginnend mit Aufgabe und endend auf .pdf\")\n",
    "    for file in os.listdir(d):\n",
    "        if file.startswith(\"Aufgabe\") and file.endswith(\".pdf\"):\n",
    "            print(file)"
   ]
  },
  {
   "cell_type": "code",
   "execution_count": 152,
   "metadata": {},
   "outputs": [
    {
     "name": "stdout",
     "output_type": "stream",
     "text": [
      "Files beginnend mit Aufgabe und endend auf .pdf\n",
      "Aufgabe3.pdf\n",
      "Aufgabe.pdf\n"
     ]
    }
   ],
   "source": [
    "findFile5(\"Aufgabe5\")"
   ]
  },
  {
   "cell_type": "code",
   "execution_count": 153,
   "metadata": {},
   "outputs": [],
   "source": [
    "import os\n",
    "\n",
    "def findFile6(d):\n",
    "    print(\"Files ohne zahlen im namen:\")\n",
    "    for file in os.listdir(d):\n",
    "        if not any(char.isdigit() for char in file):\n",
    "            print(file)\n"
   ]
  },
  {
   "cell_type": "code",
   "execution_count": 154,
   "metadata": {},
   "outputs": [
    {
     "name": "stdout",
     "output_type": "stream",
     "text": [
      "Files ohne zahlen im namen:\n",
      "Aufgabe\n",
      "csv.csv\n",
      "jsonfile.json\n",
      "file.withdot.txt\n",
      "test.txt\n",
      ".startswithdot\n",
      "Aufgabe.pdf\n"
     ]
    }
   ],
   "source": [
    "findFile6(\"Aufgabe5\")"
   ]
  },
  {
   "cell_type": "code",
   "execution_count": null,
   "metadata": {},
   "outputs": [],
   "source": [
    "class MyComp12:\n",
    "    def __init__(self, num1, num2):\n",
    "        self.num1 = num1\n",
    "        self.num2 = num2\n",
    "    \n",
    "    def __str__(self):\n",
    "        return f\"{self.num1} + {self.num2}i\"\n",
    "    \n",
    "    def __add__(self, other):\n",
    "        newnum1 = self.num1 + other.num1\n",
    "        newnum2 = self.num2 + other.num2\n",
    "        return MyComp12(newnum1, newnum2)\n",
    "    \n",
    "    def __mul__(self, other):\n",
    "        mulnum1 = self.num1 * other.num1 - self.num2 * other.num2\n",
    "        mulnum2 = self.num1 * other.num2 + self.num2  * other.num1\n",
    "        return MyComp12(mulnum1, mulnum2)"
   ]
  },
  {
   "cell_type": "code",
   "execution_count": 270,
   "metadata": {},
   "outputs": [],
   "source": [
    "c1 = MyComp12(1.0, 2.0)"
   ]
  },
  {
   "cell_type": "code",
   "execution_count": 271,
   "metadata": {},
   "outputs": [
    {
     "name": "stdout",
     "output_type": "stream",
     "text": [
      "1.0 + 2.0i\n"
     ]
    }
   ],
   "source": [
    "print(c1)"
   ]
  },
  {
   "cell_type": "code",
   "execution_count": 275,
   "metadata": {},
   "outputs": [],
   "source": [
    "c1 = MyComp12(1, 2)\n",
    "c2 = MyComp12(4,4)"
   ]
  },
  {
   "cell_type": "code",
   "execution_count": 279,
   "metadata": {},
   "outputs": [
    {
     "name": "stdout",
     "output_type": "stream",
     "text": [
      "1 + 2i 4 + 4i\n",
      "5 + 6i\n"
     ]
    }
   ],
   "source": [
    "lsg = c1 + c2\n",
    "print(c1, c2)\n",
    "print(lsg)"
   ]
  },
  {
   "cell_type": "code",
   "execution_count": 280,
   "metadata": {},
   "outputs": [
    {
     "name": "stdout",
     "output_type": "stream",
     "text": [
      "-4 + 12i\n"
     ]
    }
   ],
   "source": [
    "lsg = c1 * c2\n",
    "print(lsg)"
   ]
  },
  {
   "cell_type": "code",
   "execution_count": null,
   "metadata": {},
   "outputs": [],
   "source": []
  }
 ],
 "metadata": {
  "kernelspec": {
   "display_name": "Python 3",
   "language": "python",
   "name": "python3"
  },
  "language_info": {
   "codemirror_mode": {
    "name": "ipython",
    "version": 3
   },
   "file_extension": ".py",
   "mimetype": "text/x-python",
   "name": "python",
   "nbconvert_exporter": "python",
   "pygments_lexer": "ipython3",
   "version": "3.13.2"
  }
 },
 "nbformat": 4,
 "nbformat_minor": 2
}
