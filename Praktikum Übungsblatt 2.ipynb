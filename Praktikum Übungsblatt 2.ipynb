{
 "cells": [
  {
   "cell_type": "markdown",
   "metadata": {},
   "source": [
    "### Aufgabe 2\n",
    "\n",
    "Aufgabe 2.0\n",
    "\n",
    "Schreiben Sie eine Funktion, die drei Zahlen übergeben bekommt und als Ergebnis die Summe der beiden größeren Zahlen zurückliefert."
   ]
  },
  {
   "cell_type": "code",
   "execution_count": null,
   "metadata": {},
   "outputs": [
    {
     "name": "stdout",
     "output_type": "stream",
     "text": [
      "Gib bitte 3 Zahlen ein!\n",
      "[3, 9, 16]\n",
      "25\n"
     ]
    }
   ],
   "source": [
    "\n",
    "print(\"Gib bitte 3 Zahlen ein!\")\n",
    "zahl1 = int(input(\"Zahl 1: \"))\n",
    "zahl2 = int(input(\"Zahl 2: \")) \n",
    "zahl3 = int(input(\"Zahl 3: \"))\n",
    "\n",
    "zahlen = []\n",
    "zahlen.append(zahl1)\n",
    "zahlen.append(zahl2)\n",
    "zahlen.append(zahl3)\n",
    "zahlen.sort()\n",
    "print(zahlen)\n",
    "print(zahlen[2]+zahlen[1])"
   ]
  },
  {
   "cell_type": "markdown",
   "metadata": {},
   "source": [
    "Aufgabe 2.1\n",
    "\n",
    "Ein Palindrom ist ein Wort, welches rückwärts gelesen dasselbe Wort ergibt. Schreiben Sie die Funktion palindrom(wort), welche prüft, ob ein Wort ein Palindrom ist.\n",
    "\n",
    "    palindrom ( 'Lagerregal' )\n",
    "\n",
    "        True\n",
    "\n",
    "    palindrom ( 'Anna' )\n",
    "\n",
    "        True\n",
    "\n",
    "    palindrom ( 'Otto' )\n",
    "\n",
    "        True"
   ]
  },
  {
   "cell_type": "code",
   "execution_count": 48,
   "metadata": {},
   "outputs": [],
   "source": [
    "def palindrom():\n",
    "    wort = input(\"Gib bitte ein Wort ein\")\n",
    "    palindrom = wort[::-1]\n",
    "    if wort.lower() == palindrom.lower():\n",
    "        print(\"Dieses Wort ist ein Palindrom.\")\n",
    "        print(wort)\n",
    "    else:\n",
    "        print(\"Dieses Wort ist kein Palindrom.\")\n",
    "        print(wort)\n"
   ]
  },
  {
   "cell_type": "code",
   "execution_count": 50,
   "metadata": {},
   "outputs": [
    {
     "name": "stdout",
     "output_type": "stream",
     "text": [
      "Dieses Wort ist ein Palindrom.\n",
      "Lagerregal\n"
     ]
    }
   ],
   "source": [
    "palindrom()"
   ]
  },
  {
   "cell_type": "markdown",
   "metadata": {},
   "source": [
    "Aufgabe 2.2\n",
    "\n",
    "Schreiben Sie die Funktion maxword(s), welche einen Satz (mehrere Wörter) übergeben bekommt und das längste Word zurückliefert."
   ]
  },
  {
   "cell_type": "code",
   "execution_count": null,
   "metadata": {},
   "outputs": [
    {
     "name": "stdout",
     "output_type": "stream",
     "text": [
      "Das längste Wort ist: funzt\n"
     ]
    }
   ],
   "source": [
    "def maxword():\n",
    "    satz = input(\"Gib bitte ein Satz ein\").split() #Eingabe eines Satzes + aufteilen in einzelne Elemente\n",
    "    maxwort = \"\" #leeres Wort\n",
    "    for wort in satz:\n",
    "        if len(wort) > len(maxwort):\n",
    "            maxwort = wort #Jedes wort in \"satz\" wird mit maxwort verglichen, falls es länger ist wird maxwort das neue längste Wort\n",
    "    print(\"Das längste Wort ist: \" + maxwort) #gibt das längste Wort der Eingabe aus\n",
    "maxword()\n"
   ]
  },
  {
   "cell_type": "markdown",
   "metadata": {},
   "source": [
    "Aufgabe 2.3\n",
    "\n",
    "Schreiben Sie eine Funktion, die keine Argumente übergeben bekommt, aber einen String vom Benutzer einliest. Immer dann, wenn dieser String mit dem Buchstaben 'A' beginnt, soll die Benutzereingabe so zurückgeliefert werden, dass dieser mit einem 'a' ersetzt wird. In allen anderen Fällen, soll die Benutzereingabe unverändert zurückgeliefert werden."
   ]
  },
  {
   "cell_type": "code",
   "execution_count": null,
   "metadata": {},
   "outputs": [],
   "source": [
    "#hier mit .replace ändern\n",
    "\n",
    "def Atoa():\n",
    "    satz = input(\"Gib ein String ein:\")\n",
    "    satz = satz.split() #teilt eingabe in einzelne Elemente in einer Liste\n",
    "    if satz[0].startswith(\"A\"): #wenn das erste Element mit A beginnt\n",
    "        print(satz[0].lower(),\" \".join(satz[1:])) #gibt das erste Element in Kleinbuchstaben aus und die anderen Elemente in der Liste\n",
    "    else:\n",
    "        print(satz) #ansonsten wird die Liste ,wie eingegeben, wieder ausgegeben"
   ]
  },
  {
   "cell_type": "code",
   "execution_count": 3,
   "metadata": {},
   "outputs": [
    {
     "name": "stdout",
     "output_type": "stream",
     "text": [
      "aals ob des jz funzt\n"
     ]
    }
   ],
   "source": [
    "Atoa()"
   ]
  },
  {
   "cell_type": "markdown",
   "metadata": {},
   "source": [
    "Aufgabe 3\n",
    "\n",
    "Ein Anagram ist ein Wort, welches durch Umstellen der Buchstaben ein anderes Wort bildet.\n",
    "\n",
    "Erbgut ist ein Anagramm zu Betrug.\n",
    "\n",
    "\n",
    "Schreiben Sie die Funktion anagram(wort1, wort2), welche pr¨ uft, ob zwei W¨ orter ein Anagramm sind.\n",
    "\n",
    "\n",
    "Hinweis: Behandeln Sie bitte Groß- und Kleinbuchstaben gleich.\n",
    "\n",
    "        anagram ( 'Erbgut', 'Betrug' )\n",
    "\n",
    "    True\n",
    "\n",
    "        anagram ( 'Lager', 'Regal' )\n",
    "\n",
    "    True\n",
    "\n",
    "        anagram ( 'Atem', 'Meta' )\n",
    "\n",
    "    True"
   ]
  },
  {
   "cell_type": "code",
   "execution_count": 78,
   "metadata": {},
   "outputs": [],
   "source": [
    "def anagram(wort1, wort2):\n",
    "    if sorted(wort1.lower()) == sorted(wort2.lower()): #sortiert und vergleicht die Buchstaben der beiden Wörter\n",
    "        return True\n",
    "    else:\n",
    "        return False"
   ]
  },
  {
   "cell_type": "code",
   "execution_count": 79,
   "metadata": {},
   "outputs": [
    {
     "data": {
      "text/plain": [
       "True"
      ]
     },
     "execution_count": 79,
     "metadata": {},
     "output_type": "execute_result"
    }
   ],
   "source": [
    "anagram('Atem', 'Meta')"
   ]
  }
 ],
 "metadata": {
  "kernelspec": {
   "display_name": "Python 3",
   "language": "python",
   "name": "python3"
  },
  "language_info": {
   "codemirror_mode": {
    "name": "ipython",
    "version": 3
   },
   "file_extension": ".py",
   "mimetype": "text/x-python",
   "name": "python",
   "nbconvert_exporter": "python",
   "pygments_lexer": "ipython3",
   "version": "3.13.2"
  }
 },
 "nbformat": 4,
 "nbformat_minor": 2
}
