{
 "cells": [
  {
   "cell_type": "markdown",
   "metadata": {},
   "source": [
    "### Aufgabe 3"
   ]
  },
  {
   "cell_type": "markdown",
   "metadata": {},
   "source": [
    "Aufgabe 3.0\n",
    "\n",
    "Schreiben Sie die Funktion scheresteinpapier(), welche das Spiel Schere, Stein, Papier spielt. Der Computer soll eine zufällige Auswahl treffen und der Mensch soll eine zufällige Eingabe machen. Bei Gleichheit oder wenn der Mensch verloren hat, wird wiederholt. Wenn der Mensch gewinnt, ist das Spiel zu Ende."
   ]
  },
  {
   "cell_type": "code",
   "execution_count": 4,
   "metadata": {},
   "outputs": [],
   "source": [
    "import random\n",
    "\n",
    "def scheresteinpapier():\n",
    "    options = ['Schere', 'Stein', 'Papier']\n",
    "    \n",
    "    while True:\n",
    "        compwahl = random.choice(options)\n",
    "        player = input(\"Wähle Schere, Stein oder Papier: \").capitalize()\n",
    "        \n",
    "        if player not in options:\n",
    "            print(\"Ungültige Eingabe. Bitte wähle erneut.\")\n",
    "            continue\n",
    "        \n",
    "        print(f\"Computer wählt: {compwahl}\")\n",
    "        \n",
    "        if compwahl == player:\n",
    "            print(\"Unentschieden! Versuche es erneut.\")\n",
    "        elif (player == 'Schere' and compwahl == 'Papier') or \\\n",
    "             (player == 'Stein' and compwahl == 'Schere') or \\\n",
    "             (player == 'Papier' and compwahl == 'Stein'):\n",
    "            print(\"Du hast gewonnen! Glückwunsch!\")\n",
    "            break\n",
    "        else:\n",
    "            print(\"Du hast verloren! Versuche es erneut.\")"
   ]
  },
  {
   "cell_type": "code",
   "execution_count": 5,
   "metadata": {},
   "outputs": [
    {
     "name": "stdout",
     "output_type": "stream",
     "text": [
      "Computer wählt: Stein\n",
      "Du hast verloren! Versuche es erneut.\n",
      "Computer wählt: Stein\n",
      "Du hast verloren! Versuche es erneut.\n",
      "Computer wählt: Stein\n",
      "Du hast verloren! Versuche es erneut.\n",
      "Computer wählt: Papier\n",
      "Du hast gewonnen! Glückwunsch!\n"
     ]
    }
   ],
   "source": [
    "scheresteinpapier()"
   ]
  },
  {
   "cell_type": "markdown",
   "metadata": {},
   "source": [
    "Aufgabe 3.1\n",
    "\n",
    "Für die Implementierung des folgendens Spiels wird eine Zufallszahl benötigt. Diese können Sie wie folgt bekommen:\n",
    "\n",
    "from random import randint\n",
    "\n",
    "r = randint ( 0 , 100 ) # Zufallszahl zwischen 0 und 100 ausgeben"
   ]
  },
  {
   "cell_type": "markdown",
   "metadata": {},
   "source": [
    "Schreiben sie eine Funktion ratespiel(n), die eine zufällige Zahl zwischen 0 und n erzeugt und den Benutzer so oft interaktiv raten lässt, bis er die Zahl erraten hat. Nach jedem Rateversuch, den der Benutzer über die Tastatur eingeben soll, muss die Funktion als Rückmeldung entweder 'zu gross' , 'zu klein' oder 'richtig' auf dem Bildschirm ausgeben. Sobald der Benutzer die Zahl richtig erraten hat, soll die Funktion beendet werden und die Anzahl der Rateversuche als Integer-Zahl zurückliefern."
   ]
  },
  {
   "cell_type": "code",
   "execution_count": 6,
   "metadata": {},
   "outputs": [],
   "source": [
    "from random import randint\n",
    "\n",
    "def ratspiel(n):\n",
    "    guessed = False\n",
    "    randomzahl = randint(1,n)\n",
    "    while not guessed:\n",
    "\n",
    "        uinput = input(\"Gib eine Zahl ein:\")\n",
    "    \n",
    "        if int(uinput) > randomzahl:\n",
    "            print(\"Das war leider Falsch. Die richtige Zahl ist kleiner.\")\n",
    "            guessed = False\n",
    "        elif int(uinput) < randomzahl:\n",
    "            print(\"Das war leider Falsch. Die richtige Zahl ist größer.\")\n",
    "            guessed = False\n",
    "        else:\n",
    "            print(\"Du hast die richtige Zahl erraten! Glückwunsch!\")\n",
    "            guessed = True\n",
    "            "
   ]
  },
  {
   "cell_type": "code",
   "execution_count": 7,
   "metadata": {},
   "outputs": [
    {
     "name": "stdout",
     "output_type": "stream",
     "text": [
      "Das war leider Falsch. Die richtige Zahl ist kleiner.\n",
      "Das war leider Falsch. Die richtige Zahl ist größer.\n",
      "Du hast die richtige Zahl erraten! Glückwunsch!\n"
     ]
    }
   ],
   "source": [
    "ratspiel(100)"
   ]
  },
  {
   "cell_type": "markdown",
   "metadata": {},
   "source": [
    "Aufgabe 3.2\n",
    "\n",
    "Schreiben Sie eine Python-Funktion, die eine Liste aller Worte aus Kleinbuchstaben (keine Umlaute) erzeugt, die aus genau 4 Buchstaben bestehen und die in der Mitte nicht zwei Konsonanten enthält.\n",
    "\n",
    "Beispiel der Liste: ['aaaa','aaab','aaac','zzzx', ....,'zzzy','zzzz']\n",
    "\n",
    "Länge der Liste: 456976 = 264\n",
    "\n",
    "Mit der Konsonaten-Bedingung:\n",
    "\n",
    "['aaaa','aaab','aaac','zzux', ....,'zzuy','zzuz']\n",
    "\n",
    "Länge der Liste: 158860"
   ]
  },
  {
   "cell_type": "code",
   "execution_count": 8,
   "metadata": {},
   "outputs": [],
   "source": [
    "def wörter():\n",
    "    import string\n",
    "    alphabet = string.ascii_lowercase\n",
    "    vokale = {'a', 'e', 'i', 'o', 'u'}\n",
    "    liste = []\n",
    "    for ltr1 in alphabet:\n",
    "        for ltr2 in alphabet:\n",
    "            for ltr3 in alphabet:\n",
    "                for ltr4 in alphabet:\n",
    "                    wort = ltr1 + ltr2 + ltr3 + ltr4\n",
    "\n",
    "                    if (ltr2 in vokale or ltr3 in vokale):\n",
    "                        liste.append(wort)\n",
    "    #return liste\n",
    "    return len(liste)\n"
   ]
  },
  {
   "cell_type": "code",
   "execution_count": 9,
   "metadata": {},
   "outputs": [
    {
     "data": {
      "text/plain": [
       "158860"
      ]
     },
     "execution_count": 9,
     "metadata": {},
     "output_type": "execute_result"
    }
   ],
   "source": [
    "wörter()"
   ]
  },
  {
   "cell_type": "markdown",
   "metadata": {},
   "source": [
    "Aufgabe 3.3\n",
    "\n",
    "Gegeben sei ein in der Variablen d befindliches dict-Objekt. Geben Sie Python-Code an, um..."
   ]
  },
  {
   "cell_type": "markdown",
   "metadata": {},
   "source": [
    "a) zu berechnen, wie viele Einträge d enthält."
   ]
  },
  {
   "cell_type": "code",
   "execution_count": 11,
   "metadata": {},
   "outputs": [
    {
     "name": "stdout",
     "output_type": "stream",
     "text": [
      "4\n"
     ]
    }
   ],
   "source": [
    "d = {1:'Hallo', 2 :'Welt', 3: 'Python', 4:'Programmierung'}\n",
    "\n",
    "print(len(d))"
   ]
  },
  {
   "cell_type": "markdown",
   "metadata": {},
   "source": [
    "b) zu berechnen, ob es einen Schlüssel 'Hallo' gibt."
   ]
  },
  {
   "cell_type": "code",
   "execution_count": 12,
   "metadata": {},
   "outputs": [
    {
     "name": "stdout",
     "output_type": "stream",
     "text": [
      "False\n"
     ]
    }
   ],
   "source": [
    "d = {1:'Hallo', 2 :'Welt', 3: 'Python', 4:'Programmierung'}\n",
    "\n",
    "if 'Hallo' in d:\n",
    "    print(True)\n",
    "else:\n",
    "    print(False)"
   ]
  },
  {
   "cell_type": "markdown",
   "metadata": {},
   "source": [
    "c) zu entscheiden, ob alle Schlüssel den Typ int haben."
   ]
  },
  {
   "cell_type": "code",
   "execution_count": 14,
   "metadata": {},
   "outputs": [
    {
     "name": "stdout",
     "output_type": "stream",
     "text": [
      "Alle Schlüssel haben den Typ int.\n"
     ]
    }
   ],
   "source": [
    "d = {1:'Hallo', 2 :'Welt', 3: 'Python', 4:'Programmierung'}\n",
    "\n",
    "if len([key for key in d.keys() if isinstance(key, int)]) == len(d.keys()):\n",
    "    print(\"Alle Schlüssel haben den Typ int.\")\n",
    "else:\n",
    "    print(\"Nicht alle Schlüssel haben den Typ int.\")\n"
   ]
  },
  {
   "cell_type": "markdown",
   "metadata": {},
   "source": [
    "d) einen neuen Eintrag zu erzeugen, der dem Schlüssel 1 den Wert 2 zuordnet."
   ]
  },
  {
   "cell_type": "code",
   "execution_count": 10,
   "metadata": {},
   "outputs": [
    {
     "name": "stdout",
     "output_type": "stream",
     "text": [
      "Servus\n"
     ]
    }
   ],
   "source": [
    "d = {1:'Hallo', 2 :'Welt', 3: 'Python', 4:'Programmierung'}\n",
    "\n",
    "d[1] = 'Servus'\n",
    "print(d[1])"
   ]
  },
  {
   "cell_type": "code",
   "execution_count": null,
   "metadata": {},
   "outputs": [],
   "source": []
  }
 ],
 "metadata": {
  "kernelspec": {
   "display_name": "Python 3",
   "language": "python",
   "name": "python3"
  },
  "language_info": {
   "codemirror_mode": {
    "name": "ipython",
    "version": 3
   },
   "file_extension": ".py",
   "mimetype": "text/x-python",
   "name": "python",
   "nbconvert_exporter": "python",
   "pygments_lexer": "ipython3",
   "version": "3.13.2"
  }
 },
 "nbformat": 4,
 "nbformat_minor": 2
}
