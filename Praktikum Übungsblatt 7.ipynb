{
 "cells": [
  {
   "cell_type": "markdown",
   "metadata": {
    "vscode": {
     "languageId": "plaintext"
    }
   },
   "source": [
    "### Augabe 7"
   ]
  },
  {
   "cell_type": "code",
   "execution_count": 14,
   "metadata": {},
   "outputs": [],
   "source": [
    "class Graph:\n",
    "    def __init__(self):\n",
    "        self.knoten = set()  #set damit keine duplikate \n",
    "\n",
    "    def addNode(self, k):\n",
    "        self.knoten.add(k) #add da es ein set ist und append nicht funktioniert\n",
    "\n",
    "    def addEdge(self, k, j):\n",
    "        if k in self.knoten and j in self.knoten: #prüft ob knoten existiert und ob kante auch schon\n",
    "            if not hasattr(self, 'kanten'):\n",
    "                self.kanten = {}  #macht dict für kanten weil 2 werte yk\n",
    "                if k not in self.kanten:\n",
    "                    self.kanten[k] = set()  #macht set für alle kanten, die hierher führen\n",
    "                if j not in self.kanten[k]:\n",
    "                    self.kanten[k].add(j)  #führt kante von j zu k\n",
    "    \n",
    "    def V(self):\n",
    "        return list(self.knoten) #gibt liste mit knoten aus\n",
    "    \n",
    "    def E(self):\n",
    "        kanten = []\n",
    "        if hasattr(self, 'Kanten'): #hasattr prüft ob self die attribute 'Kanten' hat/kanten zu dem führen\n",
    "            for k, nachbarn in self.kanten.items(): #guckt nach alle knoten, die nachbarn/kanten zu anderen knoten haben und speichert sie in liste\n",
    "                for j in nachbarn:\n",
    "                    kanten.append((k, j))\n",
    "        return kanten\n",
    "    \n",
    "    def allSingles(self):\n",
    "        singles = [] #initialisiert liste\n",
    "        for knoten in self.Knoten: \n",
    "            if not hasattr(self, 'Kanten') or knoten not in self.kanten or len(self.kanten[knoten]) == 0: \n",
    "            #wenn self keine attribute 'Kanten' hat oder key 'knoten' nicht in dictionary ist oder assoziierter wert vom key=0 ist\n",
    "                singles.append(knoten) \n",
    "        return singles\n",
    "    \n",
    "    def mostEdges(self):\n",
    "        knoten_max = None\n",
    "        kanten_max = 0\n",
    "        for knoten, nachbarn in self.kanten.items(): #items in self.kanten werden in knoten und nachbarn geteilt weil nur anzahl nachbarn gebraucht wirrd\n",
    "            if len(nachbarn) > kanten_max: #wenn nachbarn > kanten_max ist, wird neuer wert angenommen und am ende ausgegeben\n",
    "                kanten_max = len(nachbarn)\n",
    "                knoten_max = knoten\n",
    "        return knoten_max"
   ]
  },
  {
   "cell_type": "code",
   "execution_count": 15,
   "metadata": {},
   "outputs": [],
   "source": [
    "g = Graph()"
   ]
  },
  {
   "cell_type": "code",
   "execution_count": 16,
   "metadata": {},
   "outputs": [],
   "source": [
    "for i in range(1,6): g.addNode(i)"
   ]
  },
  {
   "cell_type": "code",
   "execution_count": 17,
   "metadata": {},
   "outputs": [],
   "source": [
    "for i, j in [(1,2),(2,2),(1,3),(2,3),(3,4),(1,4),(4,5),(5,1)]:\n",
    "    g.addEdge(i,j)"
   ]
  },
  {
   "cell_type": "code",
   "execution_count": 18,
   "metadata": {},
   "outputs": [
    {
     "data": {
      "text/plain": [
       "[1, 2, 3, 4, 5]"
      ]
     },
     "execution_count": 18,
     "metadata": {},
     "output_type": "execute_result"
    }
   ],
   "source": [
    "g.V()"
   ]
  },
  {
   "cell_type": "markdown",
   "metadata": {},
   "source": [
    "### Aufgabe 7.1"
   ]
  },
  {
   "cell_type": "code",
   "execution_count": 83,
   "metadata": {},
   "outputs": [],
   "source": [
    "class Cntr:\n",
    "    def __init__(self, satz=None):\n",
    "        self.info = {}  # dictionary für häufigkeit\n",
    "        if satz:\n",
    "            for wert in satz:\n",
    "                self.add(wert) \n",
    "\n",
    "    def add(self, wert):\n",
    "        if wert in self.info:\n",
    "            self.info[wert] += 1 \n",
    "        else:\n",
    "            self.info[wert] = 1 \n",
    "\n",
    "    def count(self, wert):\n",
    "        return self.info.get(wert, 0)  #zählt zeichen\n",
    "\n",
    "    def most(self):\n",
    "        if not self.info:\n",
    "            return None \n",
    "        return max(self.info.items(), key=lambda x: x[1])  #returnt höchste anzahö\n",
    "\n",
    "    def __repr__(self):\n",
    "        return '\\n'.join([f\"'{key}' --> {wert}\" for key, wert in self.info.items()])  \n",
    "        # damit es so aussieht wie aufm pdf auf ilias (alles auf einer zeile usw)\n",
    "\n",
    "    def __add__(self, other):\n",
    "        resultat = Cntr()\n",
    "        for key in set(self.info.keys()).union(other.info.keys()):  \n",
    "            resultat.info[key] = self.count(key) + other.count(key)  \n",
    "            #zählt keys zweier werte zusammen\n",
    "        return resultat\n",
    "\n",
    "    def __mul__(self, other):\n",
    "        resultat = Cntr()\n",
    "        all_keys = set(self.info.keys()).union(other.info.keys())  \n",
    "        for key in all_keys:\n",
    "            resultat.info[key] = self.count(key) * other.count(key)  \n",
    "            #multipliziert keys zweier werte zusammen\n",
    "        return resultat"
   ]
  },
  {
   "cell_type": "code",
   "execution_count": 84,
   "metadata": {},
   "outputs": [],
   "source": [
    "c = Cntr(\"Hallo Welt\")"
   ]
  },
  {
   "cell_type": "code",
   "execution_count": 85,
   "metadata": {},
   "outputs": [
    {
     "data": {
      "text/plain": [
       "'H' --> 1\n",
       "'a' --> 1\n",
       "'l' --> 3\n",
       "'o' --> 1\n",
       "' ' --> 1\n",
       "'W' --> 1\n",
       "'e' --> 1\n",
       "'t' --> 1"
      ]
     },
     "execution_count": 85,
     "metadata": {},
     "output_type": "execute_result"
    }
   ],
   "source": [
    "c"
   ]
  },
  {
   "cell_type": "code",
   "execution_count": 86,
   "metadata": {},
   "outputs": [
    {
     "data": {
      "text/plain": [
       "('l', 3)"
      ]
     },
     "execution_count": 86,
     "metadata": {},
     "output_type": "execute_result"
    }
   ],
   "source": [
    "c.most()"
   ]
  },
  {
   "cell_type": "code",
   "execution_count": 87,
   "metadata": {},
   "outputs": [],
   "source": [
    "c2 = Cntr(\"Hello World\")"
   ]
  },
  {
   "cell_type": "code",
   "execution_count": 88,
   "metadata": {},
   "outputs": [
    {
     "data": {
      "text/plain": [
       "'a' --> 1\n",
       "'t' --> 1\n",
       "' ' --> 2\n",
       "'e' --> 2\n",
       "'o' --> 3\n",
       "'W' --> 2\n",
       "'H' --> 2\n",
       "'l' --> 6\n",
       "'d' --> 1\n",
       "'r' --> 1"
      ]
     },
     "execution_count": 88,
     "metadata": {},
     "output_type": "execute_result"
    }
   ],
   "source": [
    "c + c2"
   ]
  },
  {
   "cell_type": "code",
   "execution_count": 89,
   "metadata": {},
   "outputs": [
    {
     "data": {
      "text/plain": [
       "'a' --> 0\n",
       "'t' --> 0\n",
       "' ' --> 1\n",
       "'e' --> 1\n",
       "'o' --> 2\n",
       "'W' --> 1\n",
       "'H' --> 1\n",
       "'l' --> 9\n",
       "'d' --> 0\n",
       "'r' --> 0"
      ]
     },
     "execution_count": 89,
     "metadata": {},
     "output_type": "execute_result"
    }
   ],
   "source": [
    "c * c2"
   ]
  },
  {
   "cell_type": "code",
   "execution_count": null,
   "metadata": {},
   "outputs": [],
   "source": []
  }
 ],
 "metadata": {
  "kernelspec": {
   "display_name": "Python 3",
   "language": "python",
   "name": "python3"
  },
  "language_info": {
   "codemirror_mode": {
    "name": "ipython",
    "version": 3
   },
   "file_extension": ".py",
   "mimetype": "text/x-python",
   "name": "python",
   "nbconvert_exporter": "python",
   "pygments_lexer": "ipython3",
   "version": "3.13.2"
  }
 },
 "nbformat": 4,
 "nbformat_minor": 2
}
